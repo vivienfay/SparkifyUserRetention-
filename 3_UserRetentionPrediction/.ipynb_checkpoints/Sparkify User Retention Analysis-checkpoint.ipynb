{
 "cells": [
  {
   "cell_type": "markdown",
   "metadata": {},
   "source": [
    "# Music Service Datawarehouse Design and User Engagement Analysis on AWS "
   ]
  },
  {
   "cell_type": "markdown",
   "metadata": {},
   "source": [
    "### Project Goal:\n",
    "\n",
    "\n",
    "\n",
    "### Outlines:\n",
    "\n",
    "1. Data Preprocessing\n",
    "2. EDA\n",
    "3. Feature Engineering\n",
    "4. Modelling\n",
    "5. Testing\n",
    "6. Conclusion"
   ]
  },
  {
   "cell_type": "code",
   "execution_count": 3,
   "metadata": {},
   "outputs": [],
   "source": [
    "# import libraries\n",
    "from pyspark.sql import SparkSession\n",
    "from pyspark.sql.functions import avg, col, concat, desc, explode, lit, min, max, split, udf, isnull\n",
    "from pyspark.sql.types import IntegerType\n",
    "\n",
    "from pyspark.ml import Pipeline\n",
    "from pyspark.ml.classification import LogisticRegression, RandomForestClassifier, GBTClassifier, DecisionTreeClassifier, NaiveBayes\n",
    "from pyspark.ml.evaluation import MulticlassClassificationEvaluator\n",
    "from pyspark.ml.feature import CountVectorizer, IDF, Normalizer, PCA, RegexTokenizer, StandardScaler, StopWordsRemover, StringIndexer, VectorAssembler\n",
    "from pyspark.ml.regression import LinearRegression\n",
    "from pyspark.ml.tuning import CrossValidator, ParamGridBuilder\n",
    "\n",
    "import re\n",
    "import datetime\n",
    "import matplotlib.pyplot as plt\n",
    "import pandas as pd\n",
    "import seaborn as sns"
   ]
  },
  {
   "cell_type": "markdown",
   "metadata": {},
   "source": [
    "## Data Preprocessing"
   ]
  },
  {
   "cell_type": "markdown",
   "metadata": {},
   "source": [
    "In this step, we will be loading data from json file and clean the data after analyzing the missing value in the dataset."
   ]
  },
  {
   "cell_type": "code",
   "execution_count": 4,
   "metadata": {},
   "outputs": [
    {
     "name": "stdout",
     "output_type": "stream",
     "text": [
      "+----------------+---------+---------+------+-------------+--------+---------+-----+--------------------+------+--------+-------------+---------+--------------------+------+-------------+--------------------+------+\n",
      "|          artist|     auth|firstName|gender|itemInSession|lastName|   length|level|            location|method|    page| registration|sessionId|                song|status|           ts|           userAgent|userId|\n",
      "+----------------+---------+---------+------+-------------+--------+---------+-----+--------------------+------+--------+-------------+---------+--------------------+------+-------------+--------------------+------+\n",
      "|  Martha Tilston|Logged In|    Colin|     M|           50| Freeman|277.89016| paid|     Bakersfield, CA|   PUT|NextSong|1538173362000|       29|           Rockpools|   200|1538352117000|Mozilla/5.0 (Wind...|    30|\n",
      "|Five Iron Frenzy|Logged In|    Micah|     M|           79|    Long|236.09424| free|Boston-Cambridge-...|   PUT|NextSong|1538331630000|        8|              Canada|   200|1538352180000|\"Mozilla/5.0 (Win...|     9|\n",
      "|    Adam Lambert|Logged In|    Colin|     M|           51| Freeman| 282.8273| paid|     Bakersfield, CA|   PUT|NextSong|1538173362000|       29|   Time For Miracles|   200|1538352394000|Mozilla/5.0 (Wind...|    30|\n",
      "|          Enigma|Logged In|    Micah|     M|           80|    Long|262.71302| free|Boston-Cambridge-...|   PUT|NextSong|1538331630000|        8|Knocking On Forbi...|   200|1538352416000|\"Mozilla/5.0 (Win...|     9|\n",
      "|       Daft Punk|Logged In|    Colin|     M|           52| Freeman|223.60771| paid|     Bakersfield, CA|   PUT|NextSong|1538173362000|       29|Harder Better Fas...|   200|1538352676000|Mozilla/5.0 (Wind...|    30|\n",
      "+----------------+---------+---------+------+-------------+--------+---------+-----+--------------------+------+--------+-------------+---------+--------------------+------+-------------+--------------------+------+\n",
      "only showing top 5 rows\n",
      "\n"
     ]
    }
   ],
   "source": [
    "# Create spark session and load the dataframe\n",
    "\n",
    "spark = SparkSession \\\n",
    "    .builder \\\n",
    "    .appName(\"Sparkify\") \\\n",
    "    .getOrCreate()\n",
    "\n",
    "path = \"mini_sparkify_event_data.json\"\n",
    "df = spark.read.json(path)\n",
    "df.persist()\n",
    "\n",
    "df.show(5)"
   ]
  },
  {
   "cell_type": "code",
   "execution_count": 5,
   "metadata": {},
   "outputs": [],
   "source": [
    "# Create a view to leverage SQL to manipulate data\n",
    "df.createOrReplaceTempView('logs')"
   ]
  },
  {
   "cell_type": "code",
   "execution_count": 6,
   "metadata": {},
   "outputs": [
    {
     "data": {
      "text/plain": [
       "286500"
      ]
     },
     "execution_count": 6,
     "metadata": {},
     "output_type": "execute_result"
    }
   ],
   "source": [
    "# remove missing value in userid and sessionid\n",
    "df = df.dropna(how = \"any\", subset = [\"userId\", \"sessionId\"])\n",
    "df.count()"
   ]
  },
  {
   "cell_type": "code",
   "execution_count": 7,
   "metadata": {},
   "outputs": [
    {
     "data": {
      "text/plain": [
       "278154"
      ]
     },
     "execution_count": 7,
     "metadata": {},
     "output_type": "execute_result"
    }
   ],
   "source": [
    "# remove the userid with empty string\n",
    "df = df.filter(df.userId!=\"\")\n",
    "df.count()"
   ]
  },
  {
   "cell_type": "code",
   "execution_count": 8,
   "metadata": {},
   "outputs": [
    {
     "data": {
      "text/plain": [
       "278154"
      ]
     },
     "execution_count": 8,
     "metadata": {},
     "output_type": "execute_result"
    }
   ],
   "source": [
    "# filter out the log out users\n",
    "df = df.where(col('auth') != 'Logged Out')\n",
    "df.count()"
   ]
  },
  {
   "cell_type": "markdown",
   "metadata": {},
   "source": [
    "## EDA"
   ]
  },
  {
   "cell_type": "markdown",
   "metadata": {},
   "source": [
    "### Define Churn "
   ]
  },
  {
   "cell_type": "markdown",
   "metadata": {},
   "source": [
    "According to the dataset, the most obvioius variable here to show if the user is churn or not is the page. If they are at cancellelation confirmation status, it shows they are churn. "
   ]
  },
  {
   "cell_type": "code",
   "execution_count": 9,
   "metadata": {},
   "outputs": [
    {
     "name": "stdout",
     "output_type": "stream",
     "text": [
      "root\n",
      " |-- artist: string (nullable = true)\n",
      " |-- auth: string (nullable = true)\n",
      " |-- firstName: string (nullable = true)\n",
      " |-- gender: string (nullable = true)\n",
      " |-- itemInSession: long (nullable = true)\n",
      " |-- lastName: string (nullable = true)\n",
      " |-- length: double (nullable = true)\n",
      " |-- level: string (nullable = true)\n",
      " |-- location: string (nullable = true)\n",
      " |-- method: string (nullable = true)\n",
      " |-- page: string (nullable = true)\n",
      " |-- registration: long (nullable = true)\n",
      " |-- sessionId: long (nullable = true)\n",
      " |-- song: string (nullable = true)\n",
      " |-- status: long (nullable = true)\n",
      " |-- ts: long (nullable = true)\n",
      " |-- userAgent: string (nullable = true)\n",
      " |-- userId: string (nullable = true)\n",
      "\n"
     ]
    }
   ],
   "source": [
    "df.printSchema()"
   ]
  },
  {
   "cell_type": "code",
   "execution_count": 10,
   "metadata": {},
   "outputs": [
    {
     "name": "stdout",
     "output_type": "stream",
     "text": [
      "+--------------------+------+\n",
      "|                Page| count|\n",
      "+--------------------+------+\n",
      "|              Cancel|    52|\n",
      "|    Submit Downgrade|    63|\n",
      "|         Thumbs Down|  2546|\n",
      "|                Home| 10082|\n",
      "|           Downgrade|  2055|\n",
      "|         Roll Advert|  3933|\n",
      "|              Logout|  3226|\n",
      "|       Save Settings|   310|\n",
      "|Cancellation Conf...|    52|\n",
      "|               About|   495|\n",
      "|            Settings|  1514|\n",
      "|     Add to Playlist|  6526|\n",
      "|          Add Friend|  4277|\n",
      "|            NextSong|228108|\n",
      "|           Thumbs Up| 12551|\n",
      "|                Help|  1454|\n",
      "|             Upgrade|   499|\n",
      "|               Error|   252|\n",
      "|      Submit Upgrade|   159|\n",
      "+--------------------+------+\n",
      "\n"
     ]
    }
   ],
   "source": [
    "# Show the unique page status and count.\n",
    "df.groupBy('Page').count().show()"
   ]
  },
  {
   "cell_type": "code",
   "execution_count": 11,
   "metadata": {},
   "outputs": [],
   "source": [
    "# add time to see the time clear\n",
    "get_time = udf(lambda x: datetime.datetime.fromtimestamp(x / 1000.0).strftime(\"%Y-%m-%d %H:%M:%S\"))\n",
    "df = df.withColumn(\"time\", get_time(df.ts))"
   ]
  },
  {
   "cell_type": "code",
   "execution_count": 12,
   "metadata": {},
   "outputs": [
    {
     "name": "stdout",
     "output_type": "stream",
     "text": [
      "+--------------------+---------+---------+------+-------------+--------+---------+-----+--------------------+------+---------------+-------------+---------+--------------------+------+-------------+--------------------+------+-------------------+\n",
      "|              artist|     auth|firstName|gender|itemInSession|lastName|   length|level|            location|method|           page| registration|sessionId|                song|status|           ts|           userAgent|userId|               time|\n",
      "+--------------------+---------+---------+------+-------------+--------+---------+-----+--------------------+------+---------------+-------------+---------+--------------------+------+-------------+--------------------+------+-------------------+\n",
      "|      Martha Tilston|Logged In|    Colin|     M|           50| Freeman|277.89016| paid|     Bakersfield, CA|   PUT|       NextSong|1538173362000|       29|           Rockpools|   200|1538352117000|Mozilla/5.0 (Wind...|    30|2018-09-30 17:01:57|\n",
      "|    Five Iron Frenzy|Logged In|    Micah|     M|           79|    Long|236.09424| free|Boston-Cambridge-...|   PUT|       NextSong|1538331630000|        8|              Canada|   200|1538352180000|\"Mozilla/5.0 (Win...|     9|2018-09-30 17:03:00|\n",
      "|        Adam Lambert|Logged In|    Colin|     M|           51| Freeman| 282.8273| paid|     Bakersfield, CA|   PUT|       NextSong|1538173362000|       29|   Time For Miracles|   200|1538352394000|Mozilla/5.0 (Wind...|    30|2018-09-30 17:06:34|\n",
      "|              Enigma|Logged In|    Micah|     M|           80|    Long|262.71302| free|Boston-Cambridge-...|   PUT|       NextSong|1538331630000|        8|Knocking On Forbi...|   200|1538352416000|\"Mozilla/5.0 (Win...|     9|2018-09-30 17:06:56|\n",
      "|           Daft Punk|Logged In|    Colin|     M|           52| Freeman|223.60771| paid|     Bakersfield, CA|   PUT|       NextSong|1538173362000|       29|Harder Better Fas...|   200|1538352676000|Mozilla/5.0 (Wind...|    30|2018-09-30 17:11:16|\n",
      "|The All-American ...|Logged In|    Micah|     M|           81|    Long|208.29995| free|Boston-Cambridge-...|   PUT|       NextSong|1538331630000|        8|      Don't Leave Me|   200|1538352678000|\"Mozilla/5.0 (Win...|     9|2018-09-30 17:11:18|\n",
      "|The Velvet Underg...|Logged In|    Micah|     M|           82|    Long|260.46649| free|Boston-Cambridge-...|   PUT|       NextSong|1538331630000|        8|         Run Run Run|   200|1538352886000|\"Mozilla/5.0 (Win...|     9|2018-09-30 17:14:46|\n",
      "|        Starflyer 59|Logged In|    Colin|     M|           53| Freeman|185.44281| paid|     Bakersfield, CA|   PUT|       NextSong|1538173362000|       29|Passengers (Old A...|   200|1538352899000|Mozilla/5.0 (Wind...|    30|2018-09-30 17:14:59|\n",
      "|                null|Logged In|    Colin|     M|           54| Freeman|     null| paid|     Bakersfield, CA|   PUT|Add to Playlist|1538173362000|       29|                null|   200|1538352905000|Mozilla/5.0 (Wind...|    30|2018-09-30 17:15:05|\n",
      "|            Frumpies|Logged In|    Colin|     M|           55| Freeman|134.47791| paid|     Bakersfield, CA|   PUT|       NextSong|1538173362000|       29|          Fuck Kitty|   200|1538353084000|Mozilla/5.0 (Wind...|    30|2018-09-30 17:18:04|\n",
      "|        Britt Nicole|Logged In|    Micah|     M|           83|    Long| 229.8771| free|Boston-Cambridge-...|   PUT|       NextSong|1538331630000|        8|   Walk On The Water|   200|1538353146000|\"Mozilla/5.0 (Win...|     9|2018-09-30 17:19:06|\n",
      "|                null|Logged In|    Micah|     M|           84|    Long|     null| free|Boston-Cambridge-...|   GET|    Roll Advert|1538331630000|        8|                null|   200|1538353150000|\"Mozilla/5.0 (Win...|     9|2018-09-30 17:19:10|\n",
      "|Edward Sharpe & T...|Logged In|    Colin|     M|           56| Freeman|223.58159| paid|     Bakersfield, CA|   PUT|       NextSong|1538173362000|       29|                Jade|   200|1538353218000|Mozilla/5.0 (Wind...|    30|2018-09-30 17:20:18|\n",
      "|               Tesla|Logged In|    Micah|     M|           85|    Long|201.06404| free|Boston-Cambridge-...|   PUT|       NextSong|1538331630000|        8|      Gettin' Better|   200|1538353375000|\"Mozilla/5.0 (Win...|     9|2018-09-30 17:22:55|\n",
      "|                null|Logged In|    Micah|     M|           86|    Long|     null| free|Boston-Cambridge-...|   PUT|      Thumbs Up|1538331630000|        8|                null|   307|1538353376000|\"Mozilla/5.0 (Win...|     9|2018-09-30 17:22:56|\n",
      "|         Stan Mosley|Logged In|    Colin|     M|           57| Freeman|246.69995| paid|     Bakersfield, CA|   PUT|       NextSong|1538173362000|       29|   So-Called Friends|   200|1538353441000|Mozilla/5.0 (Wind...|    30|2018-09-30 17:24:01|\n",
      "|Florence + The Ma...|Logged In|    Micah|     M|           87|    Long|168.64608| free|Boston-Cambridge-...|   PUT|       NextSong|1538331630000|        8| You've Got The Love|   200|1538353576000|\"Mozilla/5.0 (Win...|     9|2018-09-30 17:26:16|\n",
      "|   Tokyo Police Club|Logged In|  Ashlynn|     F|            0|Williams| 166.1122| free|     Tallahassee, FL|   PUT|       NextSong|1537365219000|      217|Citizens Of Tomorrow|   200|1538353668000|\"Mozilla/5.0 (Mac...|    74|2018-09-30 17:27:48|\n",
      "|             Orishas|Logged In|    Colin|     M|           58| Freeman|222.22322| paid|     Bakersfield, CA|   PUT|       NextSong|1538173362000|       29|           Represent|   200|1538353687000|Mozilla/5.0 (Wind...|    30|2018-09-30 17:28:07|\n",
      "|             Ratatat|Logged In|    Micah|     M|           88|    Long|229.77261| free|Boston-Cambridge-...|   PUT|       NextSong|1538331630000|        8|              Swisha|   200|1538353744000|\"Mozilla/5.0 (Win...|     9|2018-09-30 17:29:04|\n",
      "+--------------------+---------+---------+------+-------------+--------+---------+-----+--------------------+------+---------------+-------------+---------+--------------------+------+-------------+--------------------+------+-------------------+\n",
      "only showing top 20 rows\n",
      "\n"
     ]
    }
   ],
   "source": [
    "df.show()"
   ]
  },
  {
   "cell_type": "code",
   "execution_count": 13,
   "metadata": {},
   "outputs": [
    {
     "name": "stdout",
     "output_type": "stream",
     "text": [
      "+------+---------------+-------------------+-----+--------------------+---------+\n",
      "|userId|           page|               time|level|                song|sessionId|\n",
      "+------+---------------+-------------------+-----+--------------------+---------+\n",
      "|    30|       NextSong|2018-09-30 17:01:57| paid|           Rockpools|       29|\n",
      "|    30|       NextSong|2018-09-30 17:06:34| paid|   Time For Miracles|       29|\n",
      "|    30|       NextSong|2018-09-30 17:11:16| paid|Harder Better Fas...|       29|\n",
      "|    30|       NextSong|2018-09-30 17:14:59| paid|Passengers (Old A...|       29|\n",
      "|    30|Add to Playlist|2018-09-30 17:15:05| paid|                null|       29|\n",
      "|    30|       NextSong|2018-09-30 17:18:04| paid|          Fuck Kitty|       29|\n",
      "|    30|       NextSong|2018-09-30 17:20:18| paid|                Jade|       29|\n",
      "|    30|       NextSong|2018-09-30 17:24:01| paid|   So-Called Friends|       29|\n",
      "|    30|       NextSong|2018-09-30 17:28:07| paid|           Represent|       29|\n",
      "|    30|       NextSong|2018-09-30 17:31:49| paid|           Here I Am|       29|\n",
      "|    30|       NextSong|2018-09-30 17:35:32| paid|Rebirthing (Album...|       29|\n",
      "|    30|       NextSong|2018-09-30 17:39:25| paid|Dog Days Are Over...|       29|\n",
      "|    30|       NextSong|2018-09-30 17:43:04| paid|Tomorrow Is A Lon...|       29|\n",
      "|    30|       NextSong|2018-09-30 17:46:46| paid|    Halloween Spooks|       29|\n",
      "|    30|       NextSong|2018-09-30 17:49:05| paid|            Stronger|       29|\n",
      "|    30|       NextSong|2018-09-30 17:54:16| paid|   Dis Iz Brick City|       29|\n",
      "|    30|       NextSong|2018-09-30 17:57:53| paid|          Move Along|       29|\n",
      "|    30|       NextSong|2018-09-30 18:01:51| paid|           Manhattan|       29|\n",
      "|    30|       NextSong|2018-09-30 18:05:15| paid|                Undo|       29|\n",
      "|    30|       NextSong|2018-09-30 18:11:03| paid|     The Big Gundown|       29|\n",
      "|    30|       NextSong|2018-09-30 18:15:23| paid|          Black Bird|       29|\n",
      "|    30|    Thumbs Down|2018-09-30 18:15:24| paid|                null|       29|\n",
      "|    30|       NextSong|2018-09-30 18:18:27| paid|              Nausea|       29|\n",
      "|    30|       NextSong|2018-09-30 18:21:43| paid|           Matricide|       29|\n",
      "|    30|       NextSong|2018-09-30 18:27:03| paid|             Valerie|       29|\n",
      "|    30|       NextSong|2018-09-30 18:30:52| paid|           Margarita|       29|\n",
      "|    30|       NextSong|2018-09-30 18:34:08| paid|   Le Jardin d'Hiver|       29|\n",
      "|    30|      Thumbs Up|2018-09-30 18:34:09| paid|                null|       29|\n",
      "|    30|       NextSong|2018-09-30 18:39:50| paid|Soon As I Get Hom...|       29|\n",
      "|    30|      Thumbs Up|2018-09-30 18:39:51| paid|                null|       29|\n",
      "|    30|       NextSong|2018-09-30 18:45:14| paid|    Vamos a la Playa|       29|\n",
      "|    30|       NextSong|2018-09-30 18:48:52| paid|            Perfecta|       29|\n",
      "|    30|       NextSong|2018-09-30 18:52:41| paid|             Requiem|       29|\n",
      "|    30|       NextSong|2018-09-30 18:57:34| paid|     Who Can Compare|       29|\n",
      "|    30|       NextSong|2018-09-30 19:02:00| paid|240 Years Before ...|       29|\n",
      "|    30|       NextSong|2018-09-30 19:25:20| paid|         Rosa Pastel|       29|\n",
      "|    30|    Roll Advert|2018-09-30 19:25:37| paid|                null|       29|\n",
      "|    30|       NextSong|2018-09-30 19:28:25| paid|I'm Ready (Album ...|       29|\n",
      "|    30|       NextSong|2018-09-30 19:31:47| paid|    No Other Saviour|       29|\n",
      "|    30|       NextSong|2018-09-30 19:36:12| paid|               Hints|       29|\n",
      "|    30|       NextSong|2018-09-30 19:39:00| paid|              Yellow|       29|\n",
      "|    30|Add to Playlist|2018-09-30 19:39:35| paid|                null|       29|\n",
      "|    30|       NextSong|2018-10-06 00:23:50| paid|Kill The Director...|      264|\n",
      "|    30|     Add Friend|2018-10-06 00:23:51| paid|                null|      264|\n",
      "|    30|           Home|2018-10-07 14:37:06| paid|                null|      532|\n",
      "|    30|       NextSong|2018-10-07 14:37:20| paid|         Third Party|      532|\n",
      "|    30|       NextSong|2018-10-07 14:43:11| paid|        It's Working|      532|\n",
      "|    30|       NextSong|2018-10-07 14:47:17| paid|I'll Remember Apr...|      532|\n",
      "|    30|       NextSong|2018-10-07 14:50:34| paid|  Atmosphere Station|      532|\n",
      "|    30|       NextSong|2018-10-07 14:53:45| paid|        There_ There|      532|\n",
      "|    30|       NextSong|2018-10-07 14:59:08| paid|'Til We Die (Albu...|      532|\n",
      "|    30|       NextSong|2018-10-07 15:04:53| paid|Lies (Album Version)|      532|\n",
      "|    30|       NextSong|2018-10-07 15:07:52| paid|The Ballad of Mic...|      532|\n",
      "|    30|       NextSong|2018-10-07 15:11:42| paid|               Gears|      532|\n",
      "|    30|       NextSong|2018-10-07 15:15:41| paid|          These Eyes|      532|\n",
      "|    30|           Help|2018-10-07 15:15:49| paid|                null|      532|\n",
      "|    30|           Home|2018-10-07 15:16:33| paid|                null|      532|\n",
      "|    30|       NextSong|2018-10-07 15:20:12| paid|            Stronger|      532|\n",
      "|    30|       NextSong|2018-10-07 15:25:23| paid| This Is Such A Pity|      532|\n",
      "|    30|       NextSong|2018-10-07 15:28:47| paid|Strut (1993 Digit...|      532|\n",
      "|    30|       NextSong|2018-10-07 15:32:46| paid|               Fader|      532|\n",
      "|    30|       NextSong|2018-10-07 15:35:58| paid|  Se Quiere_ Se Mata|      532|\n",
      "|    30|       NextSong|2018-10-07 15:39:36| paid|           Somewhere|      532|\n",
      "|    30|       NextSong|2018-10-07 15:42:25| paid|              Canada|      532|\n",
      "|    30|       NextSong|2018-10-07 15:46:21| paid|    Dream On Dreamer|      532|\n",
      "|    30|       NextSong|2018-10-07 15:50:21| paid|HÃÂ¡ Uma MÃÂºsi...|      532|\n",
      "|    30|       NextSong|2018-10-07 15:53:57| paid| Money Ain't A Thang|      532|\n",
      "|    30|       NextSong|2018-10-07 15:58:11| paid|     Howlin\u0019 For You|      532|\n",
      "|    30|       NextSong|2018-10-07 16:01:22| paid|           Fireflies|      532|\n",
      "|    30|       NextSong|2018-10-07 16:05:07| paid|        Stadium Love|      532|\n",
      "|    30|      Downgrade|2018-10-07 16:05:26| paid|                null|      532|\n",
      "|    30|       NextSong|2018-10-07 16:09:19| paid|       Again & Again|      532|\n",
      "|    30|       NextSong|2018-10-07 16:12:04| paid|The Trooper (1998...|      532|\n",
      "|    30|       NextSong|2018-10-07 16:16:16| paid| Get Off My Elevator|      532|\n",
      "|    30|       NextSong|2018-10-07 16:18:34| paid|        Speed Trials|      532|\n",
      "|    30|       NextSong|2018-10-07 16:21:35| paid|             Invalid|      532|\n",
      "|    30|       NextSong|2018-10-07 16:25:28| paid|           Frenchy\u0019s|      532|\n",
      "|    30|       NextSong|2018-10-07 16:28:22| paid|   Between Two Lungs|      532|\n",
      "|    30|       NextSong|2018-10-07 16:32:31| paid|              Hiding|      532|\n",
      "|    30|       NextSong|2018-10-07 16:36:17| paid|Alone Again (Natu...|      532|\n",
      "|    30|       NextSong|2018-10-07 16:39:55| paid|        You Found Me|      532|\n",
      "|    30|       NextSong|2018-10-07 16:43:55| paid|            Our Song|      532|\n",
      "|    30|       NextSong|2018-10-07 16:47:16| paid|           Rock Hard|      532|\n",
      "|    30|       NextSong|2018-10-07 16:50:30| paid| Waiting For Tonight|      532|\n",
      "|    30|       NextSong|2018-10-07 16:54:35| paid|Pioneer to The Falls|      532|\n",
      "|    30|       NextSong|2018-10-07 17:00:16| paid|      You're The One|      532|\n",
      "|    30|       NextSong|2018-10-07 17:04:15| paid|     Trash And Ready|      532|\n",
      "|    30|       NextSong|2018-10-07 17:07:08| paid|      Keep On Movin'|      532|\n",
      "|    30|       NextSong|2018-10-07 17:13:09| paid|    Quase Um Segundo|      532|\n",
      "|    30|       NextSong|2018-10-07 17:16:03| paid|Costumbres Argent...|      532|\n",
      "|    30|       NextSong|2018-10-07 17:19:20| paid|Nine Times Out Of...|      532|\n",
      "|    30|       NextSong|2018-10-07 17:21:30| paid|           Bass Solo|      532|\n",
      "|    30|       NextSong|2018-10-07 17:26:27| paid|  The Memory Remains|      532|\n",
      "|    30|       NextSong|2018-10-07 17:31:06| paid|               Clock|      532|\n",
      "|    30|       NextSong|2018-10-07 17:35:23| paid|I Don\u0019t Wanna Go ...|      532|\n",
      "|    30|       NextSong|2018-10-07 17:37:07| paid|       She's So Cold|      532|\n",
      "|    30|       NextSong|2018-10-07 17:41:20| paid|  Drops In The River|      532|\n",
      "|    30|       NextSong|2018-10-07 17:45:33| paid|          Didgeridoo|      532|\n",
      "|    30|       NextSong|2018-10-07 17:52:43| paid|   Sex_ Love & Money|      532|\n",
      "|    30|       NextSong|2018-10-07 17:56:53| paid|      Rayando el sol|      532|\n",
      "+------+---------------+-------------------+-----+--------------------+---------+\n",
      "only showing top 100 rows\n",
      "\n"
     ]
    }
   ],
   "source": [
    "# observe the activity log of a user whose userid is 296\n",
    "df.select([\"userId\", \"page\", \"time\", \"level\", \"song\", \"sessionId\"]).where(df.userId == \"30\").sort(\"time\").show(100)"
   ]
  },
  {
   "cell_type": "code",
   "execution_count": 14,
   "metadata": {},
   "outputs": [
    {
     "name": "stdout",
     "output_type": "stream",
     "text": [
      "+----------------+---------+---------+------+-------------+--------+---------+-----+--------------------+------+--------+-------------+---------+--------------------+------+-------------+--------------------+------+-------------------+-----+\n",
      "|          artist|     auth|firstName|gender|itemInSession|lastName|   length|level|            location|method|    page| registration|sessionId|                song|status|           ts|           userAgent|userId|               time|churn|\n",
      "+----------------+---------+---------+------+-------------+--------+---------+-----+--------------------+------+--------+-------------+---------+--------------------+------+-------------+--------------------+------+-------------------+-----+\n",
      "|  Martha Tilston|Logged In|    Colin|     M|           50| Freeman|277.89016| paid|     Bakersfield, CA|   PUT|NextSong|1538173362000|       29|           Rockpools|   200|1538352117000|Mozilla/5.0 (Wind...|    30|2018-09-30 17:01:57|false|\n",
      "|Five Iron Frenzy|Logged In|    Micah|     M|           79|    Long|236.09424| free|Boston-Cambridge-...|   PUT|NextSong|1538331630000|        8|              Canada|   200|1538352180000|\"Mozilla/5.0 (Win...|     9|2018-09-30 17:03:00|false|\n",
      "|    Adam Lambert|Logged In|    Colin|     M|           51| Freeman| 282.8273| paid|     Bakersfield, CA|   PUT|NextSong|1538173362000|       29|   Time For Miracles|   200|1538352394000|Mozilla/5.0 (Wind...|    30|2018-09-30 17:06:34|false|\n",
      "|          Enigma|Logged In|    Micah|     M|           80|    Long|262.71302| free|Boston-Cambridge-...|   PUT|NextSong|1538331630000|        8|Knocking On Forbi...|   200|1538352416000|\"Mozilla/5.0 (Win...|     9|2018-09-30 17:06:56|false|\n",
      "|       Daft Punk|Logged In|    Colin|     M|           52| Freeman|223.60771| paid|     Bakersfield, CA|   PUT|NextSong|1538173362000|       29|Harder Better Fas...|   200|1538352676000|Mozilla/5.0 (Wind...|    30|2018-09-30 17:11:16|false|\n",
      "+----------------+---------+---------+------+-------------+--------+---------+-----+--------------------+------+--------+-------------+---------+--------------------+------+-------------+--------------------+------+-------------------+-----+\n",
      "only showing top 5 rows\n",
      "\n"
     ]
    }
   ],
   "source": [
    "# add one more columns to show  if this user is churn or not\n",
    "\n",
    "churn_users = df.filter(df.page==\"Cancellation Confirmation\").select(\"userId\").dropDuplicates()\n",
    "churn_users_list = [(row['userId']) for row in churn_users.collect()]\n",
    "df_withchurn = df.withColumn(\"churn\", df.userId.isin(churn_users_list))\n",
    "df_withchurn.show(5)"
   ]
  },
  {
   "cell_type": "markdown",
   "metadata": {},
   "source": [
    "## Analysis of Other Variables"
   ]
  },
  {
   "cell_type": "markdown",
   "metadata": {},
   "source": [
    "In this step, we will be analyzing the features we have one by one to choose the suitable features for future modeling. Currently we have variables artist, gender, level, location, song, useragent, and time."
   ]
  },
  {
   "cell_type": "markdown",
   "metadata": {},
   "source": [
    "#### 1. relationship between churn and gender"
   ]
  },
  {
   "cell_type": "code",
   "execution_count": 15,
   "metadata": {},
   "outputs": [
    {
     "name": "stdout",
     "output_type": "stream",
     "text": [
      "+-----+------+-----+\n",
      "|churn|gender|count|\n",
      "+-----+------+-----+\n",
      "|false|     M|   89|\n",
      "|false|     F|   84|\n",
      "| true|     F|   20|\n",
      "| true|     M|   32|\n",
      "+-----+------+-----+\n",
      "\n"
     ]
    }
   ],
   "source": [
    "df_withchurn.dropDuplicates([\"userId\", \"gender\"]).groupby([\"churn\", \"gender\"]).count().sort(\"churn\").show()"
   ]
  },
  {
   "cell_type": "code",
   "execution_count": 16,
   "metadata": {},
   "outputs": [
    {
     "data": {
      "text/plain": [
       "<matplotlib.axes._subplots.AxesSubplot at 0x7f8efd3939d0>"
      ]
     },
     "execution_count": 16,
     "metadata": {},
     "output_type": "execute_result"
    },
    {
     "data": {
      "image/png": "[encoded data removed]",
      "text/plain": [
       "<Figure size 432x288 with 1 Axes>"
      ]
     },
     "metadata": {
      "needs_background": "light"
     },
     "output_type": "display_data"
    }
   ],
   "source": [
    "df_pd = df_withchurn.dropDuplicates([\"userId\", \"gender\"]).groupby([\"churn\", \"gender\"]).count().sort(\"churn\").toPandas()\n",
    "sns.barplot(x='churn', y='count', hue='gender', data=df_pd)"
   ]
  },
  {
   "cell_type": "markdown",
   "metadata": {},
   "source": [
    "#### 2. relationship between churn and page use"
   ]
  },
  {
   "cell_type": "code",
   "execution_count": 17,
   "metadata": {},
   "outputs": [],
   "source": [
    "churn_count = df_withchurn.filter(df_withchurn.churn==1).count()\n",
    "no_churn_count = df_withchurn.filter(df_withchurn.churn==0).count()\n",
    "\n",
    "df_temp1 = df_withchurn.filter(df_withchurn.churn==1).filter(df_withchurn.page!=\"NextSong\").groupby([\"page\"]).count()\n",
    "df_temp1 = df_temp1.withColumn(\"cFreq\", df_temp1[\"count\"]/(churn_count/100)).sort(\"page\")\n",
    "\n",
    "df_temp2 = df_withchurn.filter(df_withchurn.churn==0).filter(df_withchurn.page!=\"NextSong\").groupby([\"page\"]).count()\n",
    "df_temp2 = df_temp2.withColumn(\"ncFreq\", df_temp2[\"count\"]/(no_churn_count/100)).sort(\"page\")"
   ]
  },
  {
   "cell_type": "code",
   "execution_count": 18,
   "metadata": {},
   "outputs": [
    {
     "data": {
      "text/plain": [
       "<matplotlib.axes._subplots.AxesSubplot at 0x7f8efd410bd0>"
      ]
     },
     "execution_count": 18,
     "metadata": {},
     "output_type": "execute_result"
    },
    {
     "data": {
      "image/png": "[encoded data removed]",
      "text/plain": [
       "<Figure size 432x288 with 1 Axes>"
      ]
     },
     "metadata": {
      "needs_background": "light"
     },
     "output_type": "display_data"
    }
   ],
   "source": [
    "df_pd = df_temp1.join(df_temp2, \"page\", \"outer\").drop(\"count\").fillna(0).toPandas()\n",
    "df_pd.plot.bar(\"page\")"
   ]
  },
  {
   "cell_type": "markdown",
   "metadata": {},
   "source": [
    "#### 3. relationship between churn and level"
   ]
  },
  {
   "cell_type": "code",
   "execution_count": 19,
   "metadata": {},
   "outputs": [
    {
     "data": {
      "text/plain": [
       "<matplotlib.axes._subplots.AxesSubplot at 0x7f8efd494550>"
      ]
     },
     "execution_count": 19,
     "metadata": {},
     "output_type": "execute_result"
    },
    {
     "data": {
      "image/png": "[encoded data removed]",
      "text/plain": [
       "<Figure size 432x288 with 1 Axes>"
      ]
     },
     "metadata": {
      "needs_background": "light"
     },
     "output_type": "display_data"
    }
   ],
   "source": [
    "df_pd = df_withchurn.filter(df_withchurn.page==\"Cancellation Confirmation\").groupby(\"level\").count().toPandas()\n",
    "sns.barplot(x=\"level\", y=\"count\", data=df_pd)"
   ]
  },
  {
   "cell_type": "markdown",
   "metadata": {},
   "source": [
    "#### 4. relationship between churn and time span"
   ]
  },
  {
   "cell_type": "code",
   "execution_count": 20,
   "metadata": {},
   "outputs": [
    {
     "name": "stdout",
     "output_type": "stream",
     "text": [
      "+-------+-------------------+\n",
      "|summary|               time|\n",
      "+-------+-------------------+\n",
      "|  count|             278154|\n",
      "|   mean|               null|\n",
      "| stddev|               null|\n",
      "|    min|2018-09-30 17:01:57|\n",
      "|    max|2018-12-02 17:11:16|\n",
      "+-------+-------------------+\n",
      "\n"
     ]
    }
   ],
   "source": [
    "df_withchurn.select(\"time\").describe().show()"
   ]
  },
  {
   "cell_type": "code",
   "execution_count": 21,
   "metadata": {},
   "outputs": [],
   "source": [
    "get_hour = udf(lambda x: datetime.datetime.fromtimestamp(x / 1000.0).hour)\n",
    "df_withchurn = df_withchurn.withColumn(\"hour\", get_hour(df_withchurn.ts))\n",
    "\n",
    "get_weekday = udf(lambda x: datetime.datetime.fromtimestamp(x / 1000.0).strftime(\"%w\"))\n",
    "df_withchurn = df_withchurn.withColumn(\"weekday\", get_weekday(df_withchurn.ts))\n",
    "\n",
    "get_day = udf(lambda x: datetime.datetime.fromtimestamp(x / 1000.0).day)\n",
    "df_withchurn = df_withchurn.withColumn(\"day\", get_day(df_withchurn.ts))"
   ]
  },
  {
   "cell_type": "code",
   "execution_count": 22,
   "metadata": {},
   "outputs": [],
   "source": [
    "def plot_cnt_by_churn(time): \n",
    "    \"\"\"\n",
    "    This function use to plot the distribution of different dimension\n",
    "    \"\"\"\n",
    "    df_pd = df_withchurn.filter(df_withchurn.page == \"NextSong\").groupby(\"churn\", time).count().orderBy(df_withchurn[time].cast(\"float\")).toPandas()\n",
    "    df_pd[time] = pd.to_numeric(df_pd[time])\n",
    "    df_pd[df_pd.churn==0].plot.bar(x=time, y='count', color='Blue', label='Not churn')\n",
    "    df_pd[df_pd.churn==1].plot.bar(x=time, y='count', color='Red', label='Churn')"
   ]
  },
  {
   "cell_type": "code",
   "execution_count": 23,
   "metadata": {},
   "outputs": [
    {
     "data": {
      "image/png": "[encoded data removed]",
      "text/plain": [
       "<Figure size 432x288 with 1 Axes>"
      ]
     },
     "metadata": {
      "needs_background": "light"
     },
     "output_type": "display_data"
    },
    {
     "data": {
      "image/png": "[encoded data removed]",
      "text/plain": [
       "<Figure size 432x288 with 1 Axes>"
      ]
     },
     "metadata": {
      "needs_background": "light"
     },
     "output_type": "display_data"
    }
   ],
   "source": [
    "plot_cnt_by_churn(\"hour\")\n"
   ]
  },
  {
   "cell_type": "code",
   "execution_count": 24,
   "metadata": {},
   "outputs": [
    {
     "data": {
      "image/png": "[encoded data removed]",
      "text/plain": [
       "<Figure size 432x288 with 1 Axes>"
      ]
     },
     "metadata": {
      "needs_background": "light"
     },
     "output_type": "display_data"
    },
    {
     "data": {
      "image/png": "[encoded data removed]",
      "text/plain": [
       "<Figure size 432x288 with 1 Axes>"
      ]
     },
     "metadata": {
      "needs_background": "light"
     },
     "output_type": "display_data"
    }
   ],
   "source": [
    "plot_cnt_by_churn(\"weekday\")"
   ]
  },
  {
   "cell_type": "code",
   "execution_count": 25,
   "metadata": {},
   "outputs": [
    {
     "data": {
      "image/png": "[encoded data removed]",
      "text/plain": [
       "<Figure size 432x288 with 1 Axes>"
      ]
     },
     "metadata": {
      "needs_background": "light"
     },
     "output_type": "display_data"
    },
    {
     "data": {
      "image/png": "[encoded data removed]",
      "text/plain": [
       "<Figure size 432x288 with 1 Axes>"
      ]
     },
     "metadata": {
      "needs_background": "light"
     },
     "output_type": "display_data"
    }
   ],
   "source": [
    "plot_cnt_by_churn(\"day\")"
   ]
  },
  {
   "cell_type": "markdown",
   "metadata": {},
   "source": [
    "#### 5.Show the distribution in operations in each session for churn user and non-churn user"
   ]
  },
  {
   "cell_type": "code",
   "execution_count": 26,
   "metadata": {},
   "outputs": [
    {
     "data": {
      "text/plain": [
       "<matplotlib.axes._subplots.AxesSubplot at 0x7f8efe0d8d90>"
      ]
     },
     "execution_count": 26,
     "metadata": {},
     "output_type": "execute_result"
    },
    {
     "data": {
      "image/png": "[encoded data removed]",
      "text/plain": [
       "<Figure size 432x288 with 1 Axes>"
      ]
     },
     "metadata": {
      "needs_background": "light"
     },
     "output_type": "display_data"
    }
   ],
   "source": [
    "df_pd = df_withchurn.groupby(\"churn\", \"userId\", \"sessionId\").count().toPandas()\n",
    "sns.boxplot(x='count', y='churn', orient=\"h\", data=df_pd)"
   ]
  },
  {
   "cell_type": "markdown",
   "metadata": {},
   "source": [
    "## Feature Engineering "
   ]
  },
  {
   "cell_type": "markdown",
   "metadata": {},
   "source": [
    "Based on previous analysis on all variables, we will be choosing the features for future use.\n",
    "\n",
    "feature 1: gender\n",
    "\n",
    "feature 2: days after registration\n",
    "\n",
    "feature 3: avg/min/max time per session\n",
    "\n",
    "feature 4: number of song per session\n",
    "\n",
    "feature 5: number of session\n",
    "\n",
    "feature 6: level\n",
    "\n",
    "feature 7: frequency of use of pages\n",
    "\n",
    "feature 8: how many singers have the user heard"
   ]
  },
  {
   "cell_type": "markdown",
   "metadata": {},
   "source": [
    "#### Feature 1: gender"
   ]
  },
  {
   "cell_type": "code",
   "execution_count": 27,
   "metadata": {},
   "outputs": [],
   "source": [
    "user_gender = df_withchurn.select(\"userId\", \"gender\").dropDuplicates()\n",
    "user_gender = user_gender.replace([\"M\", \"F\"], [\"0\", \"1\"], \"gender\")\n",
    "user_gender = user_gender.select(\"userId\", user_gender.gender.cast(\"int\"))"
   ]
  },
  {
   "cell_type": "code",
   "execution_count": 28,
   "metadata": {},
   "outputs": [
    {
     "name": "stdout",
     "output_type": "stream",
     "text": [
      "+------+------+\n",
      "|userId|gender|\n",
      "+------+------+\n",
      "|    44|     1|\n",
      "|    46|     1|\n",
      "|    41|     1|\n",
      "|    72|     1|\n",
      "|300023|     1|\n",
      "+------+------+\n",
      "only showing top 5 rows\n",
      "\n"
     ]
    }
   ],
   "source": [
    "user_gender.show(5)"
   ]
  },
  {
   "cell_type": "markdown",
   "metadata": {},
   "source": [
    "#### Feature 2: days after registration"
   ]
  },
  {
   "cell_type": "code",
   "execution_count": 29,
   "metadata": {},
   "outputs": [],
   "source": [
    "user_max_ts = df_withchurn.groupBy(\"userId\").max(\"ts\").sort(\"userId\")\n",
    "user_reg_ts = df_withchurn.select(\"userId\", \"registration\").dropDuplicates().sort(\"userId\")\n",
    "user_reg_days = user_reg_ts.join(user_max_ts, user_reg_ts.userId == user_max_ts.userId).select(user_reg_ts[\"userId\"], ((user_max_ts[\"max(ts)\"]-user_reg_ts[\"registration\"])/(1000*60*60*24)).alias(\"regDay\"))"
   ]
  },
  {
   "cell_type": "code",
   "execution_count": 30,
   "metadata": {},
   "outputs": [
    {
     "name": "stdout",
     "output_type": "stream",
     "text": [
      "+------+------------------+\n",
      "|userId|            regDay|\n",
      "+------+------------------+\n",
      "|    10| 51.76265046296297|\n",
      "|   100| 64.87377314814815|\n",
      "|100001| 44.80021990740741|\n",
      "|100002|160.47207175925925|\n",
      "|100003|22.748113425925926|\n",
      "+------+------------------+\n",
      "only showing top 5 rows\n",
      "\n"
     ]
    }
   ],
   "source": [
    "user_reg_days.show(5)"
   ]
  },
  {
   "cell_type": "markdown",
   "metadata": {},
   "source": [
    "#### Feature 3: avg/min/max time per session"
   ]
  },
  {
   "cell_type": "code",
   "execution_count": 31,
   "metadata": {},
   "outputs": [],
   "source": [
    "user_session_time = df_withchurn.groupby(\"userId\", \"sessionId\").agg(((max(df_withchurn.ts)-min(df_withchurn.ts))/(1000*60)).alias(\"sessionTime\"))\n",
    "user_session_time_stat = user_session_time.groupby(\"userId\").agg(avg(user_session_time.sessionTime).alias(\"avgSessionTime\"), min(user_session_time.sessionTime).alias(\"minSessionTime\"), max(user_session_time.sessionTime).alias(\"maxSessionTime\")).sort(\"userId\")"
   ]
  },
  {
   "cell_type": "code",
   "execution_count": 32,
   "metadata": {},
   "outputs": [
    {
     "name": "stdout",
     "output_type": "stream",
     "text": [
      "+------+------------------+-----------------+------------------+\n",
      "|userId|    avgSessionTime|   minSessionTime|    maxSessionTime|\n",
      "+------+------------------+-----------------+------------------+\n",
      "|    10|459.74722222222226|91.41666666666667|1547.9166666666667|\n",
      "|   100| 316.5190476190476|              0.0|1019.5833333333334|\n",
      "|100001|148.15833333333333|             63.0|215.28333333333333|\n",
      "|100002|201.18333333333334|              0.0| 730.4666666666667|\n",
      "|100003| 99.11666666666667|3.216666666666667|195.01666666666668|\n",
      "+------+------------------+-----------------+------------------+\n",
      "only showing top 5 rows\n",
      "\n"
     ]
    }
   ],
   "source": [
    "user_session_time_stat.show(5)\n"
   ]
  },
  {
   "cell_type": "markdown",
   "metadata": {},
   "source": [
    "#### Feature 4: number of song per session"
   ]
  },
  {
   "cell_type": "code",
   "execution_count": 33,
   "metadata": {},
   "outputs": [],
   "source": [
    "user_session_songs = df_withchurn.filter(df_withchurn.page==\"NextSong\").groupby(\"userId\", \"sessionId\").count()\n",
    "user_session_songs_avg = user_session_songs.groupby(\"userId\").agg(avg(user_session_songs[\"count\"]).alias(\"avgSessionSongs\")).sort(\"userId\")"
   ]
  },
  {
   "cell_type": "code",
   "execution_count": 34,
   "metadata": {},
   "outputs": [
    {
     "name": "stdout",
     "output_type": "stream",
     "text": [
      "+------+------------------+\n",
      "|userId|   avgSessionSongs|\n",
      "+------+------------------+\n",
      "|    10|112.16666666666667|\n",
      "|   100| 78.88235294117646|\n",
      "|100001|             33.25|\n",
      "|100002|             48.75|\n",
      "|100003|              25.5|\n",
      "+------+------------------+\n",
      "only showing top 5 rows\n",
      "\n"
     ]
    }
   ],
   "source": [
    "user_session_songs_avg.show(5)"
   ]
  },
  {
   "cell_type": "markdown",
   "metadata": {},
   "source": [
    "#### Feature 5: number of session"
   ]
  },
  {
   "cell_type": "code",
   "execution_count": 35,
   "metadata": {},
   "outputs": [],
   "source": [
    "user_session_count = df_withchurn.select(\"userId\", \"sessionId\").dropDuplicates().groupby(\"userId\").count()\n",
    "user_session_count = user_session_count.withColumnRenamed(\"count\", \"sessionCount\")"
   ]
  },
  {
   "cell_type": "code",
   "execution_count": 36,
   "metadata": {},
   "outputs": [
    {
     "name": "stdout",
     "output_type": "stream",
     "text": [
      "+------+------------+\n",
      "|userId|sessionCount|\n",
      "+------+------------+\n",
      "|100010|           7|\n",
      "|200002|           6|\n",
      "|   125|           1|\n",
      "|    51|          10|\n",
      "|   124|          29|\n",
      "+------+------------+\n",
      "only showing top 5 rows\n",
      "\n"
     ]
    }
   ],
   "source": [
    "user_session_count.show(5)\n"
   ]
  },
  {
   "cell_type": "markdown",
   "metadata": {},
   "source": [
    "#### Feature 6: frequency of use of pages"
   ]
  },
  {
   "cell_type": "code",
   "execution_count": 37,
   "metadata": {},
   "outputs": [],
   "source": [
    "user_paid = df_withchurn.groupby(\"userId\", \"level\").agg(max(df_withchurn.ts).alias(\"finalTime\")).sort(\"userId\")\n",
    "user_recent_level_time = user_paid.groupby(\"userId\").agg(max(user_paid.finalTime).alias(\"recent\"))\n",
    "user_recent_level = user_recent_level_time.join(user_paid, [user_paid.userId == user_recent_level_time.userId, user_recent_level_time.recent == user_paid.finalTime]).select(user_paid.userId, \"level\").sort(\"userId\")\n",
    "user_recent_level = user_recent_level.replace([\"free\", \"paid\"], [\"0\", \"1\"], \"level\")\n",
    "user_recent_level = user_recent_level.select(\"userId\", user_recent_level.level.cast(\"int\"))"
   ]
  },
  {
   "cell_type": "code",
   "execution_count": 38,
   "metadata": {},
   "outputs": [
    {
     "name": "stdout",
     "output_type": "stream",
     "text": [
      "+------+-----+\n",
      "|userId|level|\n",
      "+------+-----+\n",
      "|    10|    1|\n",
      "|   100|    1|\n",
      "|100001|    0|\n",
      "|100002|    1|\n",
      "|100003|    0|\n",
      "+------+-----+\n",
      "only showing top 5 rows\n",
      "\n"
     ]
    }
   ],
   "source": [
    "user_recent_level.show(5)"
   ]
  },
  {
   "cell_type": "markdown",
   "metadata": {},
   "source": [
    "#### Feature 7: how many singers have the user heard"
   ]
  },
  {
   "cell_type": "code",
   "execution_count": 39,
   "metadata": {},
   "outputs": [],
   "source": [
    "# get all the type of page\n",
    "page_list = [(row['page']) for row in df_withchurn.select(\"page\").dropDuplicates().collect()]\n",
    "\n",
    "# must remove the column which will cause data leakage\n",
    "page_list.remove(\"Cancel\")\n",
    "page_list.remove(\"Cancellation Confirmation\")\n",
    "\n",
    "# caculate the total page each user view\n",
    "user_page_view_count = df_withchurn.groupby(\"userId\").count()\n",
    "user_page_view_count = user_page_view_count.withColumnRenamed(\"count\", \"pageCount\")\n",
    "\n",
    "\n",
    "for page in page_list:\n",
    "    col_name = \"count\" + page.replace(\" \", \"\")\n",
    "    view_count = df_withchurn.filter(df_withchurn.page==page).groupby(\"userId\").count()\n",
    "    view_count = view_count.withColumnRenamed(\"count\", col_name).withColumnRenamed(\"userId\", \"userIdTemp\")\n",
    "    user_page_view_count = user_page_view_count.join(view_count, user_page_view_count.userId==view_count.userIdTemp, \"left\").drop(\"userIdTemp\")\n",
    "user_page_view_count = user_page_view_count.sort(\"userId\")\n",
    "user_page_view_count = user_page_view_count.fillna(0)"
   ]
  },
  {
   "cell_type": "code",
   "execution_count": 40,
   "metadata": {},
   "outputs": [],
   "source": [
    "col_list = user_page_view_count.columns\n",
    "col_list.remove(\"userId\")\n",
    "col_list.remove(\"pageCount\")\n",
    "freq_sql = \"select userId\"\n",
    "for col in col_list:\n",
    "    col_name = col.replace(\"count\", \"freq\")\n",
    "    sql_str = \", (\" + col + \"/(pageCount/100)) as \" + col_name\n",
    "    freq_sql = freq_sql + sql_str\n",
    "freq_sql = freq_sql + \" from user_page_view_count\"\n",
    "\n",
    "user_page_view_count.createOrReplaceTempView(\"user_page_view_count\")\n",
    "col_list = user_page_view_count.columns\n",
    "col_list.remove(\"userId\")\n",
    "col_list.remove(\"pageCount\")\n",
    "freq_sql = \"select userId\"\n",
    "for col in col_list:\n",
    "    col_name = col.replace(\"count\", \"freq\")\n",
    "    sql_str = \", (\" + col + \"/(pageCount/100)) as \" + col_name\n",
    "    freq_sql = freq_sql + sql_str\n",
    "freq_sql = freq_sql + \" from user_page_view_count\"\n",
    "\n",
    "user_page_view_freq = spark.sql(freq_sql)"
   ]
  },
  {
   "cell_type": "code",
   "execution_count": 41,
   "metadata": {},
   "outputs": [
    {
     "name": "stdout",
     "output_type": "stream",
     "text": [
      "+------+--------------------+------------------+------------------+------------------+-------------------+------------------+-------------------+-------------------+-------------------+------------------+------------------+-----------------+-----------------+-------------------+--------------------+-------------------+--------------------+\n",
      "|userId| freqSubmitDowngrade|    freqThumbsDown|          freqHome|     freqDowngrade|     freqRollAdvert|        freqLogout|   freqSaveSettings|          freqAbout|       freqSettings| freqAddtoPlaylist|     freqAddFriend|     freqNextSong|     freqThumbsUp|           freqHelp|         freqUpgrade|          freqError|   freqSubmitUpgrade|\n",
      "+------+--------------------+------------------+------------------+------------------+-------------------+------------------+-------------------+-------------------+-------------------+------------------+------------------+-----------------+-----------------+-------------------+--------------------+-------------------+--------------------+\n",
      "|    10|                 0.0|0.5031446540880503|3.7735849056603774|0.8805031446540881|0.12578616352201258|1.3836477987421383|0.12578616352201258|0.25157232704402516| 0.8805031446540881|1.1320754716981132|1.5094339622641508|84.65408805031447|4.654088050314465|0.12578616352201258|                 0.0|                0.0|                 0.0|\n",
      "|   100|0.031113876789047916|0.8400746733042938| 3.266957062850031|0.9334163036714375| 0.7778469197261979| 1.088985687616677| 0.1555693839452396|0.37336652146857496|0.34225264467952704| 1.897946484131923|1.5245799626633478|83.44741754822651|4.604853764779091| 0.5600497822028625|0.031113876789047916|0.09334163036714374|0.031113876789047916|\n",
      "|100001|                 0.0|  1.06951871657754|  5.88235294117647|               0.0| 7.4866310160427805|3.7433155080213902|                0.0|                0.0|   0.53475935828877|1.6042780748663101|  1.06951871657754|71.12299465240642| 4.27807486631016|   0.53475935828877|    1.06951871657754|   0.53475935828877|                 0.0|\n",
      "|100002|                 0.0|               0.0|2.7522935779816513|0.9174311926605504| 1.3761467889908257|0.4587155963302752|                0.0|                0.0|                0.0| 2.293577981651376|0.4587155963302752|89.44954128440367|2.293577981651376|                0.0|                 0.0|                0.0|                 0.0|\n",
      "|100003|                 0.0|               0.0| 8.974358974358974|               0.0| 11.538461538461538| 3.846153846153846|                0.0|                0.0|                0.0| 2.564102564102564|               0.0|65.38461538461539|3.846153846153846|  1.282051282051282|                 0.0|                0.0|                 0.0|\n",
      "+------+--------------------+------------------+------------------+------------------+-------------------+------------------+-------------------+-------------------+-------------------+------------------+------------------+-----------------+-----------------+-------------------+--------------------+-------------------+--------------------+\n",
      "only showing top 5 rows\n",
      "\n"
     ]
    }
   ],
   "source": [
    "user_page_view_freq.show(5)"
   ]
  },
  {
   "cell_type": "markdown",
   "metadata": {},
   "source": [
    "#### Feature 8: how many singers have they heard"
   ]
  },
  {
   "cell_type": "code",
   "execution_count": 42,
   "metadata": {},
   "outputs": [],
   "source": [
    "user_artist_count = df_withchurn.filter(df_withchurn.page==\"NextSong\").select(\"userId\", \"artist\").dropDuplicates().groupby(\"userId\").count()\n",
    "user_artist_count = user_artist_count.withColumnRenamed(\"count\", \"aritstCount\")"
   ]
  },
  {
   "cell_type": "code",
   "execution_count": 43,
   "metadata": {},
   "outputs": [
    {
     "name": "stdout",
     "output_type": "stream",
     "text": [
      "+------+-----------+\n",
      "|userId|aritstCount|\n",
      "+------+-----------+\n",
      "|100010|        252|\n",
      "|200002|        339|\n",
      "|   125|          8|\n",
      "|    51|       1385|\n",
      "|   124|       2232|\n",
      "+------+-----------+\n",
      "only showing top 5 rows\n",
      "\n"
     ]
    }
   ],
   "source": [
    "user_artist_count.show(5)\n"
   ]
  },
  {
   "cell_type": "markdown",
   "metadata": {},
   "source": [
    "#### Obtain the label"
   ]
  },
  {
   "cell_type": "code",
   "execution_count": 44,
   "metadata": {},
   "outputs": [
    {
     "name": "stdout",
     "output_type": "stream",
     "text": [
      "+------+-----+\n",
      "|userId|churn|\n",
      "+------+-----+\n",
      "|    19|    0|\n",
      "|100005|    1|\n",
      "|200007|    0|\n",
      "|300007|    1|\n",
      "|    50|    0|\n",
      "+------+-----+\n",
      "only showing top 5 rows\n",
      "\n"
     ]
    }
   ],
   "source": [
    "user_churn = df_withchurn.select(\"userId\", \"churn\").dropDuplicates()\n",
    "user_churn = user_churn.select(\"userId\", user_churn.churn.cast(\"int\"))\n",
    "user_churn.show(5)"
   ]
  },
  {
   "cell_type": "markdown",
   "metadata": {},
   "source": [
    "#### Integrate all the features"
   ]
  },
  {
   "cell_type": "code",
   "execution_count": 45,
   "metadata": {},
   "outputs": [],
   "source": [
    "# put all the features dataframe into a list\n",
    "features_list = []\n",
    "features_list.append(user_reg_days)\n",
    "features_list.append(user_session_time_stat)\n",
    "features_list.append(user_session_songs_avg)\n",
    "features_list.append(user_session_count)\n",
    "features_list.append(user_gender)\n",
    "features_list.append(user_recent_level)\n",
    "features_list.append(user_page_view_freq)\n",
    "features_list.append(user_artist_count)\n",
    "features_list.append(user_churn)"
   ]
  },
  {
   "cell_type": "code",
   "execution_count": 46,
   "metadata": {},
   "outputs": [],
   "source": [
    "# prepare the final dataframe to join all the other features\n",
    "df_final = df_withchurn.select(\"userId\").dropDuplicates()"
   ]
  },
  {
   "cell_type": "code",
   "execution_count": 47,
   "metadata": {},
   "outputs": [],
   "source": [
    "def features_merge(df1, df2):\n",
    "    \"\"\"\n",
    "    This function is used to merge the feature using left join\n",
    "    input: two data frame to be merged\n",
    "    output: merged dataframe\n",
    "    \"\"\"\n",
    "    df2 = df2.withColumnRenamed(\"userId\", \"userIdTemp\")\n",
    "    df = df1.join(df2, df1.userId == df2.userIdTemp, \"left\").drop(\"userIdTemp\")\n",
    "    return df"
   ]
  },
  {
   "cell_type": "code",
   "execution_count": 48,
   "metadata": {},
   "outputs": [],
   "source": [
    "# use function to merge the features in the list\n",
    "for feature in features_list:\n",
    "    df_final = features_merge(df_final, feature)"
   ]
  },
  {
   "cell_type": "code",
   "execution_count": 49,
   "metadata": {},
   "outputs": [
    {
     "name": "stdout",
     "output_type": "stream",
     "text": [
      "+------+------------------+------------------+-----------------+------------------+------------------+------------+------+-----+--------------------+------------------+------------------+------------------+-------------------+------------------+-------------------+-------------------+-------------------+------------------+------------------+-----------------+-----------------+-------------------+--------------------+-------------------+--------------------+-----------+-----+\n",
      "|userId|            regDay|    avgSessionTime|   minSessionTime|    maxSessionTime|   avgSessionSongs|sessionCount|gender|level| freqSubmitDowngrade|    freqThumbsDown|          freqHome|     freqDowngrade|     freqRollAdvert|        freqLogout|   freqSaveSettings|          freqAbout|       freqSettings| freqAddtoPlaylist|     freqAddFriend|     freqNextSong|     freqThumbsUp|           freqHelp|         freqUpgrade|          freqError|   freqSubmitUpgrade|aritstCount|churn|\n",
      "+------+------------------+------------------+-----------------+------------------+------------------+------------+------+-----+--------------------+------------------+------------------+------------------+-------------------+------------------+-------------------+-------------------+-------------------+------------------+------------------+-----------------+-----------------+-------------------+--------------------+-------------------+--------------------+-----------+-----+\n",
      "|    10| 51.76265046296297|459.74722222222226|91.41666666666667|1547.9166666666667|112.16666666666667|           6|     0|    1|                 0.0|0.5031446540880503|3.7735849056603774|0.8805031446540881|0.12578616352201258|1.3836477987421383|0.12578616352201258|0.25157232704402516| 0.8805031446540881|1.1320754716981132|1.5094339622641508|84.65408805031447|4.654088050314465|0.12578616352201258|                 0.0|                0.0|                 0.0|        565|    0|\n",
      "|   100| 64.87377314814815| 316.5190476190476|              0.0|1019.5833333333334| 78.88235294117646|          35|     0|    1|0.031113876789047916|0.8400746733042938| 3.266957062850031|0.9334163036714375| 0.7778469197261979| 1.088985687616677| 0.1555693839452396|0.37336652146857496|0.34225264467952704| 1.897946484131923|1.5245799626633478|83.44741754822651|4.604853764779091| 0.5600497822028625|0.031113876789047916|0.09334163036714374|0.031113876789047916|       1705|    0|\n",
      "|100001| 44.80021990740741|148.15833333333333|             63.0|215.28333333333333|             33.25|           4|     1|    0|                 0.0|  1.06951871657754|  5.88235294117647|               0.0| 7.4866310160427805|3.7433155080213902|                0.0|                0.0|   0.53475935828877|1.6042780748663101|  1.06951871657754|71.12299465240642| 4.27807486631016|   0.53475935828877|    1.06951871657754|   0.53475935828877|                 0.0|        125|    1|\n",
      "|100002|160.47207175925925|201.18333333333334|              0.0| 730.4666666666667|             48.75|           4|     1|    1|                 0.0|               0.0|2.7522935779816513|0.9174311926605504| 1.3761467889908257|0.4587155963302752|                0.0|                0.0|                0.0| 2.293577981651376|0.4587155963302752|89.44954128440367|2.293577981651376|                0.0|                 0.0|                0.0|                 0.0|        184|    0|\n",
      "|100003|22.748113425925926| 99.11666666666667|3.216666666666667|195.01666666666668|              25.5|           2|     1|    0|                 0.0|               0.0| 8.974358974358974|               0.0| 11.538461538461538| 3.846153846153846|                0.0|                0.0|                0.0| 2.564102564102564|               0.0|65.38461538461539|3.846153846153846|  1.282051282051282|                 0.0|                0.0|                 0.0|         50|    1|\n",
      "+------+------------------+------------------+-----------------+------------------+------------------+------------+------+-----+--------------------+------------------+------------------+------------------+-------------------+------------------+-------------------+-------------------+-------------------+------------------+------------------+-----------------+-----------------+-------------------+--------------------+-------------------+--------------------+-----------+-----+\n",
      "only showing top 5 rows\n",
      "\n"
     ]
    }
   ],
   "source": [
    "# sort and view the final dataframe\n",
    "df_final = df_final.sort(\"userId\")\n",
    "df_final.persist()\n",
    "df_final.show(5)"
   ]
  },
  {
   "cell_type": "markdown",
   "metadata": {},
   "source": [
    "## Modelling"
   ]
  },
  {
   "cell_type": "markdown",
   "metadata": {},
   "source": [
    "In this step, we will build a classification model for predicting the user churn.\n",
    "1. split the training and testing set\n",
    "2. Logistics model\n",
    "3. gradient boosting tree model\n",
    "4. Parameter tunnning"
   ]
  },
  {
   "cell_type": "code",
   "execution_count": 50,
   "metadata": {},
   "outputs": [
    {
     "name": "stdout",
     "output_type": "stream",
     "text": [
      "+-----+-----+\n",
      "|churn|count|\n",
      "+-----+-----+\n",
      "|    1|   52|\n",
      "|    0|  173|\n",
      "+-----+-----+\n",
      "\n"
     ]
    }
   ],
   "source": [
    "df_final.groupby(\"churn\").count().show()"
   ]
  },
  {
   "cell_type": "code",
   "execution_count": 51,
   "metadata": {},
   "outputs": [],
   "source": [
    "out_path = \"final_data.csv\""
   ]
  },
  {
   "cell_type": "code",
   "execution_count": 82,
   "metadata": {},
   "outputs": [],
   "source": [
    "df_final.write.save(out_path, format=\"csv\", header=True)"
   ]
  },
  {
   "cell_type": "code",
   "execution_count": 51,
   "metadata": {},
   "outputs": [
    {
     "data": {
      "text/plain": [
       "DataFrame[userId: string, regDay: string, avgSessionTime: string, minSessionTime: string, maxSessionTime: string, avgSessionSongs: string, sessionCount: string, gender: string, level: string, freqSubmitDowngrade: string, freqThumbsDown: string, freqHome: string, freqDowngrade: string, freqRollAdvert: string, freqLogout: string, freqSaveSettings: string, freqAbout: string, freqSettings: string, freqAddtoPlaylist: string, freqAddFriend: string, freqNextSong: string, freqThumbsUp: string, freqHelp: string, freqUpgrade: string, freqError: string, freqSubmitUpgrade: string, aritstCount: string, churn: string]"
      ]
     },
     "execution_count": 51,
     "metadata": {},
     "output_type": "execute_result"
    }
   ],
   "source": [
    "df_final = spark.read.csv(out_path, header=True)\n",
    "df_final.persist()"
   ]
  },
  {
   "cell_type": "code",
   "execution_count": 53,
   "metadata": {},
   "outputs": [],
   "source": [
    "# convert the dataframe to a numeric dataframe\n",
    "num_features_list = df_final.columns[1:]\n",
    "for f in num_features_list:\n",
    "    f_name = f + \"Num\"\n",
    "    df_final = df_final.withColumn(f_name, df_final[f].cast(\"float\"))\n",
    "    df_final = df_final.drop(f)"
   ]
  },
  {
   "cell_type": "code",
   "execution_count": 54,
   "metadata": {},
   "outputs": [],
   "source": [
    "# Put the features to be trained into a vector\n",
    "assembler = VectorAssembler(inputCols=df_final.columns[1:-1], outputCol=\"NumFeatures\")\n",
    "data = assembler.transform(df_final)"
   ]
  },
  {
   "cell_type": "code",
   "execution_count": 55,
   "metadata": {},
   "outputs": [],
   "source": [
    "scaler = StandardScaler(inputCol=\"NumFeatures\", outputCol=\"ScaledNumFeatures\", withStd=True)\n",
    "scalerModel = scaler.fit(data)\n",
    "data = scalerModel.transform(data)"
   ]
  },
  {
   "cell_type": "code",
   "execution_count": 56,
   "metadata": {},
   "outputs": [],
   "source": [
    "data = data.select(data.churnNum.alias(\"label\"), data.ScaledNumFeatures.alias(\"features\"))\n"
   ]
  },
  {
   "cell_type": "code",
   "execution_count": 57,
   "metadata": {},
   "outputs": [],
   "source": [
    "# split testing set and training set\n",
    "train, validation = data.randomSplit([0.9, 0.1], seed=42)\n",
    "train = train.cache()"
   ]
  },
  {
   "cell_type": "code",
   "execution_count": 58,
   "metadata": {},
   "outputs": [],
   "source": [
    "lr =  LogisticRegression()\n",
    "paramGrid = ParamGridBuilder() \\\n",
    "    .addGrid(lr.elasticNetParam,[0.0, 0.1, 0.5, 1.0]) \\\n",
    "    .addGrid(lr.regParam,[0.0, 0.05, 0.1]) \\\n",
    "    .build()\n",
    "\n",
    "crossval = CrossValidator(estimator=lr,\n",
    "                          estimatorParamMaps=paramGrid,\n",
    "                          evaluator=MulticlassClassificationEvaluator(),\n",
    "                          numFolds=3)\n",
    "cvModel_lr = crossval.fit(train)"
   ]
  },
  {
   "cell_type": "code",
   "execution_count": 59,
   "metadata": {},
   "outputs": [
    {
     "data": {
      "text/plain": [
       "[0.7164387554684748,\n",
       " 0.7429529263764336,\n",
       " 0.7346751249406116,\n",
       " 0.7164387554684748,\n",
       " 0.7395371897918093,\n",
       " 0.7157769898338133,\n",
       " 0.7164387554684748,\n",
       " 0.7157769898338133,\n",
       " 0.6737959352566523,\n",
       " 0.7164387554684748,\n",
       " 0.7072991396900592,\n",
       " 0.6553539969948639]"
      ]
     },
     "execution_count": 59,
     "metadata": {},
     "output_type": "execute_result"
    }
   ],
   "source": [
    "cvModel_lr.avgMetrics\n"
   ]
  },
  {
   "cell_type": "code",
   "execution_count": 60,
   "metadata": {},
   "outputs": [],
   "source": [
    "gbt = GBTClassifier()\n",
    "\n",
    "paramGrid = ParamGridBuilder() \\\n",
    "    .addGrid(gbt.maxIter,[3, 10, 20]) \\\n",
    "    .addGrid(gbt.maxDepth,[2, 4, 6, 8]) \\\n",
    "    .build()\n",
    "\n",
    "crossval_gbt = CrossValidator(estimator=gbt,\n",
    "                          estimatorParamMaps=paramGrid,\n",
    "                          evaluator=MulticlassClassificationEvaluator(),\n",
    "                          numFolds=3)\n",
    "\n",
    "cvModel_gbt = crossval_gbt.fit(train)"
   ]
  },
  {
   "cell_type": "code",
   "execution_count": 61,
   "metadata": {},
   "outputs": [],
   "source": [
    "cvModel_gbt.save('cvModel_gbt.model')\n"
   ]
  },
  {
   "cell_type": "code",
   "execution_count": 62,
   "metadata": {},
   "outputs": [
    {
     "data": {
      "text/plain": [
       "[0.676012956530198,\n",
       " 0.6669807398120275,\n",
       " 0.6511408950389214,\n",
       " 0.6403690396266642,\n",
       " 0.6983124480350293,\n",
       " 0.6695460799949964,\n",
       " 0.6511408950389214,\n",
       " 0.6403690396266642,\n",
       " 0.7107983034618548,\n",
       " 0.684555154127087,\n",
       " 0.6511408950389214,\n",
       " 0.6403690396266642]"
      ]
     },
     "execution_count": 62,
     "metadata": {},
     "output_type": "execute_result"
    }
   ],
   "source": [
    "cvModel_gbt.avgMetrics\n"
   ]
  },
  {
   "cell_type": "code",
   "execution_count": 63,
   "metadata": {},
   "outputs": [
    {
     "name": "stdout",
     "output_type": "stream",
     "text": [
      "+-----+-----+\n",
      "|label|count|\n",
      "+-----+-----+\n",
      "|  1.0|   50|\n",
      "|  0.0|   50|\n",
      "+-----+-----+\n",
      "\n"
     ]
    }
   ],
   "source": [
    "stratified_train = train.sampleBy('label', fractions={0: 99/349, 1: 1.0}).cache()\n",
    "stratified_train.groupby(\"label\").count().show()"
   ]
  },
  {
   "cell_type": "markdown",
   "metadata": {},
   "source": [
    "#### Logistics regression"
   ]
  },
  {
   "cell_type": "code",
   "execution_count": 64,
   "metadata": {},
   "outputs": [
    {
     "data": {
      "text/plain": [
       "[0.6168108096212671,\n",
       " 0.7100569183902518,\n",
       " 0.758423856463072,\n",
       " 0.6168108096212671,\n",
       " 0.7276028256420414,\n",
       " 0.7492711775477512,\n",
       " 0.6168108096212671,\n",
       " 0.7492711775477512,\n",
       " 0.763705430372097,\n",
       " 0.6168108096212671,\n",
       " 0.7600927790401475,\n",
       " 0.6968091007350448]"
      ]
     },
     "execution_count": 64,
     "metadata": {},
     "output_type": "execute_result"
    }
   ],
   "source": [
    "lrs =  LogisticRegression()\n",
    "paramGrid = ParamGridBuilder() \\\n",
    "    .addGrid(lrs.elasticNetParam,[0.0, 0.1, 0.5, 1.0]) \\\n",
    "    .addGrid(lrs.regParam,[0.0, 0.05, 0.1]) \\\n",
    "    .build()\n",
    "\n",
    "crossval_lrs = CrossValidator(estimator=lrs,\n",
    "                          estimatorParamMaps=paramGrid,\n",
    "                          evaluator=MulticlassClassificationEvaluator(),\n",
    "                          numFolds=3)\n",
    "cvModel_lrs = crossval_lrs.fit(stratified_train)\n",
    "cvModel_lrs.avgMetrics"
   ]
  },
  {
   "cell_type": "code",
   "execution_count": 66,
   "metadata": {},
   "outputs": [],
   "source": [
    "cvModel_lr.save('cvModel_lrs.model')"
   ]
  },
  {
   "cell_type": "markdown",
   "metadata": {},
   "source": [
    "#### Gradient Boosting Tree"
   ]
  },
  {
   "cell_type": "code",
   "execution_count": 67,
   "metadata": {},
   "outputs": [
    {
     "data": {
      "text/plain": [
       "[0.4841275907229317,\n",
       " 0.490376219165313,\n",
       " 0.4956264761676009,\n",
       " 0.4956264761676009,\n",
       " 0.5016026739801552,\n",
       " 0.4881367486553265,\n",
       " 0.4956264761676009,\n",
       " 0.4956264761676009,\n",
       " 0.5711176316246549,\n",
       " 0.4881367486553265,\n",
       " 0.4956264761676009,\n",
       " 0.4956264761676009]"
      ]
     },
     "execution_count": 67,
     "metadata": {},
     "output_type": "execute_result"
    }
   ],
   "source": [
    "gbts = GBTClassifier()\n",
    "paramGrid = ParamGridBuilder() \\\n",
    "    .addGrid(gbts.maxIter,[3, 10, 20]) \\\n",
    "    .addGrid(gbts.maxDepth,[2, 4, 6, 8]) \\\n",
    "    .build()\n",
    "crossval_gbts = CrossValidator(estimator=gbts,\n",
    "                          estimatorParamMaps=paramGrid,\n",
    "                          evaluator=MulticlassClassificationEvaluator(),\n",
    "                          numFolds=3)\n",
    "cvModel_gbts = crossval_gbts.fit(stratified_train)\n",
    "cvModel_gbts.avgMetrics"
   ]
  },
  {
   "cell_type": "code",
   "execution_count": 191,
   "metadata": {},
   "outputs": [],
   "source": [
    "results = cvModel_lr.transform(validation)"
   ]
  },
  {
   "cell_type": "code",
   "execution_count": 69,
   "metadata": {},
   "outputs": [
    {
     "name": "stdout",
     "output_type": "stream",
     "text": [
      "1.0\n",
      "0.5\n",
      "0.6666666666666666\n"
     ]
    }
   ],
   "source": [
    "tp = results.filter(\"label = 1 and prediction = 1\").count()\n",
    "fp = results.filter(\"label = 0 and prediction = 1\").count()\n",
    "fn = results.filter(\"label = 1 and prediction = 0\").count()\n",
    "precision = tp / (tp + fp) \n",
    "recall = tp / (tp + fn)\n",
    "f1 = 2*precision*recall / (precision+recall)\n",
    "print(precision)\n",
    "print(recall)\n",
    "print(f1)"
   ]
  },
  {
   "cell_type": "code",
   "execution_count": 71,
   "metadata": {},
   "outputs": [],
   "source": [
    "cvModel_gbts.save('cvModel_gbts.model')\n"
   ]
  },
  {
   "cell_type": "code",
   "execution_count": 70,
   "metadata": {},
   "outputs": [],
   "source": [
    "results = cvModel_gbts.transform(validation)"
   ]
  },
  {
   "cell_type": "code",
   "execution_count": 72,
   "metadata": {},
   "outputs": [
    {
     "name": "stdout",
     "output_type": "stream",
     "text": [
      "0.4\n",
      "1.0\n",
      "0.5714285714285715\n"
     ]
    }
   ],
   "source": [
    "tp = results.filter(\"label = 1 and prediction = 1\").count()\n",
    "fp = results.filter(\"label = 0 and prediction = 1\").count()\n",
    "fn = results.filter(\"label = 1 and prediction = 0\").count()\n",
    "precision = tp / (tp + fp) \n",
    "recall = tp / (tp + fn)\n",
    "f1 = 2*precision*recall / (precision+recall)\n",
    "print(precision)\n",
    "print(recall)\n",
    "print(f1)"
   ]
  },
  {
   "cell_type": "code",
   "execution_count": 72,
   "metadata": {},
   "outputs": [
    {
     "data": {
      "text/plain": [
       "['userId',\n",
       " 'regDayNum',\n",
       " 'avgSessionTimeNum',\n",
       " 'minSessionTimeNum',\n",
       " 'maxSessionTimeNum',\n",
       " 'avgSessionSongsNum',\n",
       " 'sessionCountNum',\n",
       " 'genderNum',\n",
       " 'levelNum',\n",
       " 'freqSubmitDowngradeNum',\n",
       " 'freqThumbsDownNum',\n",
       " 'freqHomeNum',\n",
       " 'freqDowngradeNum',\n",
       " 'freqRollAdvertNum',\n",
       " 'freqLogoutNum',\n",
       " 'freqSaveSettingsNum',\n",
       " 'freqAboutNum',\n",
       " 'freqSettingsNum',\n",
       " 'freqAddtoPlaylistNum',\n",
       " 'freqAddFriendNum',\n",
       " 'freqNextSongNum',\n",
       " 'freqThumbsUpNum',\n",
       " 'freqHelpNum',\n",
       " 'freqUpgradeNum',\n",
       " 'freqErrorNum',\n",
       " 'freqSubmitUpgradeNum',\n",
       " 'aritstCountNum',\n",
       " 'churnNum']"
      ]
     },
     "execution_count": 72,
     "metadata": {},
     "output_type": "execute_result"
    }
   ],
   "source": [
    "df_final.columns"
   ]
  },
  {
   "cell_type": "markdown",
   "metadata": {},
   "source": [
    "## Prediction Using Redshift data "
   ]
  },
  {
   "cell_type": "code",
   "execution_count": 307,
   "metadata": {},
   "outputs": [],
   "source": [
    "\"\"\"\n",
    "connect to redshift\n",
    "\"\"\"\n",
    "import configparser\n",
    "import psycopg2\n",
    "from getpass import getpass\n",
    "\n",
    "config = configparser.ConfigParser()\n",
    "config.read('../1_DataWarehouse/dwh.cfg')\n",
    "KEY                    = config.get('AWS','KEY')\n",
    "SECRET                 = config.get('AWS','SECRET')\n",
    "\n",
    "conn = psycopg2.connect(\"host={} dbname={} user={} password={} port={}\".format(*config['CLUSTER'].values()))\n",
    "cur = conn.cursor()"
   ]
  },
  {
   "cell_type": "code",
   "execution_count": 186,
   "metadata": {},
   "outputs": [
    {
     "data": {
      "text/html": [
       "<div>\n",
       "<style scoped>\n",
       "    .dataframe tbody tr th:only-of-type {\n",
       "        vertical-align: middle;\n",
       "    }\n",
       "\n",
       "    .dataframe tbody tr th {\n",
       "        vertical-align: top;\n",
       "    }\n",
       "\n",
       "    .dataframe thead th {\n",
       "        text-align: right;\n",
       "    }\n",
       "</style>\n",
       "<table border=\"1\" class=\"dataframe\">\n",
       "  <thead>\n",
       "    <tr style=\"text-align: right;\">\n",
       "      <th></th>\n",
       "      <th>user_id</th>\n",
       "      <th>first_name</th>\n",
       "      <th>last_name</th>\n",
       "      <th>gender</th>\n",
       "      <th>level</th>\n",
       "      <th>registration</th>\n",
       "    </tr>\n",
       "  </thead>\n",
       "  <tbody>\n",
       "    <tr>\n",
       "      <td>0</td>\n",
       "      <td>101</td>\n",
       "      <td>Jayden</td>\n",
       "      <td>Fox</td>\n",
       "      <td>M</td>\n",
       "      <td>free</td>\n",
       "      <td>2018-11-01 00:53:32.796</td>\n",
       "    </tr>\n",
       "    <tr>\n",
       "      <td>1</td>\n",
       "      <td>86</td>\n",
       "      <td>Aiden</td>\n",
       "      <td>Hess</td>\n",
       "      <td>M</td>\n",
       "      <td>free</td>\n",
       "      <td>2018-10-29 16:03:45.796</td>\n",
       "    </tr>\n",
       "    <tr>\n",
       "      <td>2</td>\n",
       "      <td>80</td>\n",
       "      <td>Tegan</td>\n",
       "      <td>Levine</td>\n",
       "      <td>F</td>\n",
       "      <td>free</td>\n",
       "      <td>2018-10-29 06:25:56.796</td>\n",
       "    </tr>\n",
       "    <tr>\n",
       "      <td>3</td>\n",
       "      <td>100</td>\n",
       "      <td>Adler</td>\n",
       "      <td>Barrera</td>\n",
       "      <td>M</td>\n",
       "      <td>free</td>\n",
       "      <td>2018-10-29 17:59:43.796</td>\n",
       "    </tr>\n",
       "    <tr>\n",
       "      <td>4</td>\n",
       "      <td>53</td>\n",
       "      <td>Celeste</td>\n",
       "      <td>Williams</td>\n",
       "      <td>F</td>\n",
       "      <td>free</td>\n",
       "      <td>2018-11-01 13:05:28.796</td>\n",
       "    </tr>\n",
       "  </tbody>\n",
       "</table>\n",
       "</div>"
      ],
      "text/plain": [
       "   user_id first_name last_name gender level            registration\n",
       "0      101     Jayden       Fox      M  free 2018-11-01 00:53:32.796\n",
       "1       86      Aiden      Hess      M  free 2018-10-29 16:03:45.796\n",
       "2       80      Tegan    Levine      F  free 2018-10-29 06:25:56.796\n",
       "3      100      Adler   Barrera      M  free 2018-10-29 17:59:43.796\n",
       "4       53    Celeste  Williams      F  free 2018-11-01 13:05:28.796"
      ]
     },
     "execution_count": 186,
     "metadata": {},
     "output_type": "execute_result"
    }
   ],
   "source": [
    "redshift_df = pd.read_sql(\"select * from users\", con = conn)\n",
    "redshift_df.head()"
   ]
  },
  {
   "cell_type": "code",
   "execution_count": 243,
   "metadata": {},
   "outputs": [
    {
     "name": "stdout",
     "output_type": "stream",
     "text": [
      "+------+---------+-----------------+-----------------+-----------------+------------------+---------------+---------+--------+----------------------+-----------------+-----------+----------------+-----------------+-------------+-------------------+------------+---------------+--------------------+----------------+---------------+---------------+-----------+--------------+------------+--------------------+--------------+--------+\n",
      "|userId|regDayNum|avgSessionTimeNum|minSessionTimeNum|maxSessionTimeNum|avgSessionSongsNum|sessionCountNum|genderNum|levelNum|freqSubmitDowngradeNum|freqThumbsDownNum|freqHomeNum|freqDowngradeNum|freqRollAdvertNum|freqLogoutNum|freqSaveSettingsNum|freqAboutNum|freqSettingsNum|freqAddtoPlaylistNum|freqAddFriendNum|freqNextSongNum|freqThumbsUpNum|freqHelpNum|freqUpgradeNum|freqErrorNum|freqSubmitUpgradeNum|aritstCountNum|churnNum|\n",
      "+------+---------+-----------------+-----------------+-----------------+------------------+---------------+---------+--------+----------------------+-----------------+-----------+----------------+-----------------+-------------+-------------------+------------+---------------+--------------------+----------------+---------------+---------------+-----------+--------------+------------+--------------------+--------------+--------+\n",
      "|    10| 51.76265|        459.74722|        91.416664|        1547.9166|        112.166664|            6.0|      0.0|     1.0|                   0.0|        0.5031447|  3.7735848|       0.8805031|       0.12578617|    1.3836478|         0.12578617|  0.25157234|      0.8805031|           1.1320754|        1.509434|       84.65409|       4.654088| 0.12578617|           0.0|         0.0|                 0.0|         565.0|     0.0|\n",
      "|   100| 64.87377|        316.51904|              0.0|        1019.5833|         78.882355|           35.0|      0.0|     1.0|           0.031113876|       0.84007466|   3.266957|       0.9334163|       0.77784693|    1.0889857|         0.15556939|  0.37336653|     0.34225264|           1.8979465|         1.52458|       83.44742|      4.6048536|  0.5600498|   0.031113876|  0.09334163|         0.031113876|        1705.0|     0.0|\n",
      "|   101| 53.96594|           817.58|            23.85|        3300.0166|             179.7|           10.0|      0.0|     1.0|                   0.0|       0.74453235|  3.4434621|        1.023732|       0.37226617|    1.1167985|         0.09306654|  0.09306654|     0.41879943|           2.8385296|       1.3494649|      83.620285|       4.001861| 0.55839926|    0.04653327|  0.13959982|          0.04653327|        1241.0|     1.0|\n",
      "+------+---------+-----------------+-----------------+-----------------+------------------+---------------+---------+--------+----------------------+-----------------+-----------+----------------+-----------------+-------------+-------------------+------------+---------------+--------------------+----------------+---------------+---------------+-----------+--------------+------------+--------------------+--------------+--------+\n",
      "only showing top 3 rows\n",
      "\n"
     ]
    }
   ],
   "source": [
    "import pyspark.sql.functions as F\n",
    "redshift_user = redshift_df.user_id.tolist()\n",
    "\n",
    "redshift_records = df_final.filter(F.col('userId').isin(redshift_user)).orderBy('userId')\n",
    "redshift_records.show(3)"
   ]
  },
  {
   "cell_type": "code",
   "execution_count": 244,
   "metadata": {},
   "outputs": [],
   "source": [
    "# Put the features to be trained into a vector\n",
    "assembler = VectorAssembler(inputCols=redshift_records.columns[1:-1], outputCol=\"NumFeatures\")\n",
    "redshift_data = assembler.transform(redshift_records)\n",
    "scaler = StandardScaler(inputCol=\"NumFeatures\", outputCol=\"ScaledNumFeatures\", withStd=True)\n",
    "scalerModel = scaler.fit(redshift_data )\n",
    "redshift_data = scalerModel.transform(redshift_data )\n",
    "redshift_data = redshift_data.select(redshift_data.churnNum.alias(\"label\"), redshift_data.ScaledNumFeatures.alias(\"features\"))\n"
   ]
  },
  {
   "cell_type": "code",
   "execution_count": 245,
   "metadata": {},
   "outputs": [
    {
     "name": "stdout",
     "output_type": "stream",
     "text": [
      "+-----+--------------------+--------------------+--------------------+----------+\n",
      "|label|            features|       rawPrediction|         probability|prediction|\n",
      "+-----+--------------------+--------------------+--------------------+----------+\n",
      "|  0.0|[1.39910932508894...|[3.48087851610371...|[0.97013878090633...|       0.0|\n",
      "|  0.0|[1.75349406776993...|[3.65322107146591...|[0.97474670663004...|       0.0|\n",
      "|  1.0|[1.45866273392983...|[2.94811085506899...|[0.95017412619333...|       0.0|\n",
      "+-----+--------------------+--------------------+--------------------+----------+\n",
      "only showing top 3 rows\n",
      "\n"
     ]
    }
   ],
   "source": [
    "results = cvModel_lr.transform(redshift_data)\n",
    "results.show(3)"
   ]
  },
  {
   "cell_type": "code",
   "execution_count": 294,
   "metadata": {},
   "outputs": [],
   "source": [
    "a = results.select('prediction').toPandas().reset_index()\n",
    "b = df_final.filter(F.col('userId').isin(redshift_user)).orderBy('userId').select('userId').toPandas().reset_index()\n",
    "prediction = pd.merge(a,b, on = 'index')\n",
    "prediction['prediction'] = prediction['prediction'].apply(lambda x: int(x))\n",
    "prediction['userId'] = prediction['userId'].apply(lambda x: int(x))\n"
   ]
  },
  {
   "cell_type": "code",
   "execution_count": 295,
   "metadata": {},
   "outputs": [
    {
     "data": {
      "text/html": [
       "<div>\n",
       "<style scoped>\n",
       "    .dataframe tbody tr th:only-of-type {\n",
       "        vertical-align: middle;\n",
       "    }\n",
       "\n",
       "    .dataframe tbody tr th {\n",
       "        vertical-align: top;\n",
       "    }\n",
       "\n",
       "    .dataframe thead th {\n",
       "        text-align: right;\n",
       "    }\n",
       "</style>\n",
       "<table border=\"1\" class=\"dataframe\">\n",
       "  <thead>\n",
       "    <tr style=\"text-align: right;\">\n",
       "      <th></th>\n",
       "      <th>index</th>\n",
       "      <th>prediction</th>\n",
       "      <th>userId</th>\n",
       "    </tr>\n",
       "  </thead>\n",
       "  <tbody>\n",
       "    <tr>\n",
       "      <td>0</td>\n",
       "      <td>0</td>\n",
       "      <td>0</td>\n",
       "      <td>10</td>\n",
       "    </tr>\n",
       "    <tr>\n",
       "      <td>1</td>\n",
       "      <td>1</td>\n",
       "      <td>0</td>\n",
       "      <td>100</td>\n",
       "    </tr>\n",
       "    <tr>\n",
       "      <td>2</td>\n",
       "      <td>2</td>\n",
       "      <td>0</td>\n",
       "      <td>101</td>\n",
       "    </tr>\n",
       "    <tr>\n",
       "      <td>3</td>\n",
       "      <td>3</td>\n",
       "      <td>0</td>\n",
       "      <td>11</td>\n",
       "    </tr>\n",
       "    <tr>\n",
       "      <td>4</td>\n",
       "      <td>4</td>\n",
       "      <td>0</td>\n",
       "      <td>12</td>\n",
       "    </tr>\n",
       "  </tbody>\n",
       "</table>\n",
       "</div>"
      ],
      "text/plain": [
       "   index  prediction  userId\n",
       "0      0           0      10\n",
       "1      1           0     100\n",
       "2      2           0     101\n",
       "3      3           0      11\n",
       "4      4           0      12"
      ]
     },
     "execution_count": 295,
     "metadata": {},
     "output_type": "execute_result"
    }
   ],
   "source": [
    "prediction.head(5)"
   ]
  },
  {
   "cell_type": "markdown",
   "metadata": {},
   "source": [
    "## Save back to Redshift"
   ]
  },
  {
   "cell_type": "code",
   "execution_count": 309,
   "metadata": {
    "scrolled": true
   },
   "outputs": [
    {
     "name": "stdout",
     "output_type": "stream",
     "text": [
      "Copy executed fine!\n"
     ]
    }
   ],
   "source": [
    "# create table user_prediction\n",
    "create_table = (\"\"\"  CREATE TABLE IF NOT EXISTS user_prediction\n",
    "                                            (user_id         INTEGER,\n",
    "                                            prediction       INTEGER\n",
    "                                            ); \"\"\")\n",
    "\n",
    "drop_table = \"DROP TABLE IF EXISTS user_prediction\"\n",
    "\n",
    "insert_table = (\"\"\"  COPY  user_prediction FROM 's3://viviensparkify/prediction.csv'\n",
    "                            CREDENTIALS 'aws_access_key_id={};aws_secret_access_key={}'\n",
    "                            csv\n",
    "                            IGNOREHEADER 1\n",
    "                            \"\"\").format(KEY,SECRET)\n",
    "\n",
    "cur.execute(drop_table)\n",
    "conn.commit()\n",
    "\n",
    "cur.execute(create_table)\n",
    "conn.commit()\n",
    "\n",
    "# save dataframe to S3 \n",
    "\n",
    "from io import StringIO # python3; python2: BytesIO \n",
    "import boto3\n",
    "\n",
    "file_name = \"prediction.csv\"\n",
    "prediction[['userId','prediction']].to_csv(file_name,index=False)\n",
    "s3 = boto3.resource('s3',                       \n",
    "                    aws_access_key_id=KEY,\n",
    "                    aws_secret_access_key=SECRET)\n",
    "s3.meta.client.upload_file(file_name, 'viviensparkify', 'prediction.csv')\n",
    "\n",
    "# LOAD S3 csv to Redshift\n",
    "\n",
    "cur.execute(insert_table)\n",
    "conn.commit()\n",
    "\n",
    "print(\"Copy executed fine!\")\n",
    "\n",
    "conn.close()\n"
   ]
  },
  {
   "cell_type": "markdown",
   "metadata": {},
   "source": [
    "## Conclusion"
   ]
  },
  {
   "cell_type": "markdown",
   "metadata": {},
   "source": [
    "Based on the model above, we found that the gradient boosting tree's performance is much better than logistics regression."
   ]
  },
  {
   "cell_type": "code",
   "execution_count": 266,
   "metadata": {},
   "outputs": [
    {
     "data": {
      "text/html": [
       "<div>\n",
       "<style scoped>\n",
       "    .dataframe tbody tr th:only-of-type {\n",
       "        vertical-align: middle;\n",
       "    }\n",
       "\n",
       "    .dataframe tbody tr th {\n",
       "        vertical-align: top;\n",
       "    }\n",
       "\n",
       "    .dataframe thead th {\n",
       "        text-align: right;\n",
       "    }\n",
       "</style>\n",
       "<table border=\"1\" class=\"dataframe\">\n",
       "  <thead>\n",
       "    <tr style=\"text-align: right;\">\n",
       "      <th></th>\n",
       "      <th>userId</th>\n",
       "      <th>prediction</th>\n",
       "    </tr>\n",
       "  </thead>\n",
       "  <tbody>\n",
       "    <tr>\n",
       "      <td>0</td>\n",
       "      <td>10</td>\n",
       "      <td>0.0</td>\n",
       "    </tr>\n",
       "    <tr>\n",
       "      <td>1</td>\n",
       "      <td>100</td>\n",
       "      <td>0.0</td>\n",
       "    </tr>\n",
       "    <tr>\n",
       "      <td>2</td>\n",
       "      <td>101</td>\n",
       "      <td>0.0</td>\n",
       "    </tr>\n",
       "    <tr>\n",
       "      <td>3</td>\n",
       "      <td>11</td>\n",
       "      <td>0.0</td>\n",
       "    </tr>\n",
       "    <tr>\n",
       "      <td>4</td>\n",
       "      <td>12</td>\n",
       "      <td>0.0</td>\n",
       "    </tr>\n",
       "    <tr>\n",
       "      <td>...</td>\n",
       "      <td>...</td>\n",
       "      <td>...</td>\n",
       "    </tr>\n",
       "    <tr>\n",
       "      <td>91</td>\n",
       "      <td>95</td>\n",
       "      <td>0.0</td>\n",
       "    </tr>\n",
       "    <tr>\n",
       "      <td>92</td>\n",
       "      <td>96</td>\n",
       "      <td>0.0</td>\n",
       "    </tr>\n",
       "    <tr>\n",
       "      <td>93</td>\n",
       "      <td>97</td>\n",
       "      <td>0.0</td>\n",
       "    </tr>\n",
       "    <tr>\n",
       "      <td>94</td>\n",
       "      <td>98</td>\n",
       "      <td>0.0</td>\n",
       "    </tr>\n",
       "    <tr>\n",
       "      <td>95</td>\n",
       "      <td>99</td>\n",
       "      <td>0.0</td>\n",
       "    </tr>\n",
       "  </tbody>\n",
       "</table>\n",
       "<p>96 rows × 2 columns</p>\n",
       "</div>"
      ],
      "text/plain": [
       "   userId  prediction\n",
       "0      10         0.0\n",
       "1     100         0.0\n",
       "2     101         0.0\n",
       "3      11         0.0\n",
       "4      12         0.0\n",
       "..    ...         ...\n",
       "91     95         0.0\n",
       "92     96         0.0\n",
       "93     97         0.0\n",
       "94     98         0.0\n",
       "95     99         0.0\n",
       "\n",
       "[96 rows x 2 columns]"
      ]
     },
     "execution_count": 266,
     "metadata": {},
     "output_type": "execute_result"
    }
   ],
   "source": [
    "prediction[['userId','prediction']]"
   ]
  },
  {
   "cell_type": "code",
   "execution_count": null,
   "metadata": {},
   "outputs": [],
   "source": []
  }
 ],
 "metadata": {
  "kernelspec": {
   "display_name": "Python 3",
   "language": "python",
   "name": "python3"
  },
  "language_info": {
   "codemirror_mode": {
    "name": "ipython",
    "version": 3
   },
   "file_extension": ".py",
   "mimetype": "text/x-python",
   "name": "python",
   "nbconvert_exporter": "python",
   "pygments_lexer": "ipython3",
   "version": "3.7.4"
  }
 },
 "nbformat": 4,
 "nbformat_minor": 2
}
